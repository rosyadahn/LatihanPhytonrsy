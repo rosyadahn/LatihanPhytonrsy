{
 "cells": [
  {
   "cell_type": "code",
   "execution_count": 32,
   "id": "eec25c66-b903-4ac7-9005-771615c02186",
   "metadata": {},
   "outputs": [
    {
     "name": "stdout",
     "output_type": "stream",
     "text": [
      "b'<?xml version=\"1.0\" encoding=\"UTF-8\" ?>\\n<!DOCTYPE eInfoResult PUBLIC \"-//NLM//DTD einfo 20190110//EN\" \"https://eutils.ncbi.nlm.nih.gov/eutils/dtd/20190110/einfo.dtd\">\\n<eInfoResult>\\n<DbList>\\n\\n\\t<DbName>pubmed</DbName>\\n\\t<DbName>protein</DbName>\\n\\t<DbName>nuccore</DbName>\\n\\t<DbName>ipg</DbName>\\n\\t<DbName>nucleotide</DbName>\\n\\t<DbName>structure</DbName>\\n\\t<DbName>genome</DbName>\\n\\t<DbName>annotinfo</DbName>\\n\\t<DbName>assembly</DbName>\\n\\t<DbName>bioproject</DbName>\\n\\t<DbName>biosample</DbName>\\n\\t<DbName>blastdbinfo</DbName>\\n\\t<DbName>books</DbName>\\n\\t<DbName>cdd</DbName>\\n\\t<DbName>clinvar</DbName>\\n\\t<DbName>gap</DbName>\\n\\t<DbName>gapplus</DbName>\\n\\t<DbName>grasp</DbName>\\n\\t<DbName>dbvar</DbName>\\n\\t<DbName>gene</DbName>\\n\\t<DbName>gds</DbName>\\n\\t<DbName>geoprofiles</DbName>\\n\\t<DbName>homologene</DbName>\\n\\t<DbName>medgen</DbName>\\n\\t<DbName>mesh</DbName>\\n\\t<DbName>ncbisearch</DbName>\\n\\t<DbName>nlmcatalog</DbName>\\n\\t<DbName>omim</DbName>\\n\\t<DbName>orgtrack</DbName>\\n\\t<DbName>pmc</DbName>\\n\\t<DbName>popset</DbName>\\n\\t<DbName>proteinclusters</DbName>\\n\\t<DbName>pcassay</DbName>\\n\\t<DbName>protfam</DbName>\\n\\t<DbName>biosystems</DbName>\\n\\t<DbName>pccompound</DbName>\\n\\t<DbName>pcsubstance</DbName>\\n\\t<DbName>seqannot</DbName>\\n\\t<DbName>snp</DbName>\\n\\t<DbName>sra</DbName>\\n\\t<DbName>taxonomy</DbName>\\n\\t<DbName>biocollections</DbName>\\n\\t<DbName>gtr</DbName>\\n</DbList>\\n\\n</eInfoResult>\\n'\n"
     ]
    }
   ],
   "source": [
    "from Bio import Entrez\n",
    "Entrez.email = \"localuser@localhost.localdomain\"\n",
    "\n",
    "#creating handle\n",
    "handle = Entrez.einfo() #invoking Bio.Entrez.einfo()\n",
    "print(handle.read())\n",
    "handle.close() #always close your handle after you finish"
   ]
  },
  {
   "cell_type": "code",
   "execution_count": 18,
   "id": "1e3fbe24-00d3-4319-98ba-7d3758d8d442",
   "metadata": {},
   "outputs": [
    {
     "name": "stdout",
     "output_type": "stream",
     "text": [
      "{'Count': '3', 'RetMax': '3', 'RetStart': '0', 'IdList': ['1443018443', '594448959', '586947687'], 'TranslationSet': [{'From': 'Megaselia scalaris', 'To': '\"Megaselia scalaris\"[Organism] OR Megaselia scalaris[All Fields]'}], 'TranslationStack': [{'Term': '\"Megaselia scalaris\"[Organism]', 'Field': 'Organism', 'Count': '231284', 'Explode': 'Y'}, {'Term': 'Megaselia scalaris[All Fields]', 'Field': 'All Fields', 'Count': '231334', 'Explode': 'N'}, 'OR', 'GROUP', {'Term': 'ND5[All Fields]', 'Field': 'All Fields', 'Count': '141890', 'Explode': 'N'}, 'AND', 'GROUP'], 'QueryTranslation': '(\"Megaselia scalaris\"[Organism] OR Megaselia scalaris[All Fields]) AND ND5[All Fields]'}\n"
     ]
    }
   ],
   "source": [
    "from Bio import Entrez\n",
    "Entrez.email = \"localuser@localhost.localdomain\"\n",
    "\n",
    "#creating handle\n",
    "handle = Entrez.esearch(db=\"nuccore\", term=\"Megaselia scalaris ND5\")\n",
    "record = Entrez.read(handle)\n",
    "print(record)\n",
    "handle.close()"
   ]
  },
  {
   "cell_type": "code",
   "execution_count": 22,
   "id": "c1ea8868-87c3-4b42-9ef9-58cdb9ee4774",
   "metadata": {},
   "outputs": [
    {
     "name": "stdout",
     "output_type": "stream",
     "text": [
      "LOCUS       MH588562                 329 bp    DNA     linear   INV 30-OCT-2018\n",
      "DEFINITION  Megaselia scalaris isolate Ms NADH dehydrogenase subunit 5 (ND5)\n",
      "            gene, partial cds; mitochondrial.\n",
      "ACCESSION   MH588562\n",
      "VERSION     MH588562.1\n",
      "KEYWORDS    .\n",
      "SOURCE      mitochondrion Megaselia scalaris\n",
      "  ORGANISM  Megaselia scalaris\n",
      "            Eukaryota; Metazoa; Ecdysozoa; Arthropoda; Hexapoda; Insecta;\n",
      "            Pterygota; Neoptera; Endopterygota; Diptera; Brachycera;\n",
      "            Muscomorpha; Platypezoidea; Phoridae; Megaseliini; Megaselia.\n",
      "REFERENCE   1  (bases 1 to 329)\n",
      "  AUTHORS   Bortolini,S., Giordani,G., Tuccia,F., Maistrello,L. and Vanin,S.\n",
      "  TITLE     Do longer sequences improve the accuracy of identification of\n",
      "            forensically important Calliphoridae species?\n",
      "  JOURNAL   PeerJ (2018) In press\n",
      "REFERENCE   2  (bases 1 to 329)\n",
      "  AUTHORS   Bortolini,S., Tuccia,F., Giordani,G., Maistrello,L. and Vanin,S.\n",
      "  TITLE     Direct Submission\n",
      "  JOURNAL   Submitted (20-JUN-2018) Biological Sciences, University of\n",
      "            Huddersfield, Queensgate, Huddersfield HD1 3DH, UK\n",
      "COMMENT     ##Assembly-Data-START##\n",
      "            Sequencing Technology :: Sanger dideoxy sequencing\n",
      "            ##Assembly-Data-END##\n",
      "FEATURES             Location/Qualifiers\n",
      "     source          1..329\n",
      "                     /organism=\"Megaselia scalaris\"\n",
      "                     /organelle=\"mitochondrion\"\n",
      "                     /mol_type=\"genomic DNA\"\n",
      "                     /isolate=\"Ms\"\n",
      "                     /db_xref=\"taxon:36166\"\n",
      "                     /dev_stage=\"larva\"\n",
      "                     /country=\"Italy\"\n",
      "                     /lat_lon=\"44.365139 N 10.321333 E\"\n",
      "                     /collection_date=\"2014\"\n",
      "                     /collected_by=\"S.Bortolini\"\n",
      "     gene            complement(<1..>329)\n",
      "                     /gene=\"ND5\"\n",
      "                     /note=\"MT-ND5\"\n",
      "     CDS             complement(<1..>329)\n",
      "                     /gene=\"ND5\"\n",
      "                     /codon_start=2\n",
      "                     /transl_table=5\n",
      "                     /product=\"NADH dehydrogenase subunit 5\"\n",
      "                     /protein_id=\"AXK59432.1\"\n",
      "                     /translation=\"GDLNCSSLNVLSDEGWVMLKGMMGLLIMSIIGGSILNWLIFPTP\n",
      "                     YMICLPIYLKQLTLFVCITGGLFGYFISLVNLYFYNKSLDLYNISYFLGSMWFMPYIS\n",
      "                     TYGIINY\"\n",
      "ORIGIN      \n",
      "        1 gataattaat aattccgtaa gttgaaatat aaggtataaa tcatattgat cctaaaaaat\n",
      "       61 aagaaatatt atataagtct aaagatttat tataaaagta taaattaacc aatgaaatga\n",
      "      121 aataaccaaa taaaccccca gtaatacaaa caaataaagt caactgtttt aaataaatag\n",
      "      181 gtaaacaaat catataagga gtaggaaaaa ttaatcaatt taaaattcta cctccaataa\n",
      "      241 ttgatataat aagtaaacct attataccct ttaatattac tcatccttca tctcttaaaa\n",
      "      301 catttaatct tctacaattt aaatctcca\n",
      "//\n",
      "\n",
      "\n"
     ]
    }
   ],
   "source": [
    "#creating EFetch handle\n",
    "efetch_handle = Entrez.efetch(db=\"nuccore\", id=\"1443018443\", rettype=\"gb\", retmode=\"text\")\n",
    "gbrecord = efetch_handle.read()\n",
    "print(gbrecord)"
   ]
  },
  {
   "cell_type": "code",
   "execution_count": 23,
   "id": "e5a0353c-0ba6-44a3-af5a-77b59e54ba22",
   "metadata": {},
   "outputs": [
    {
     "name": "stdout",
     "output_type": "stream",
     "text": [
      ">MH588562.1 Megaselia scalaris isolate Ms NADH dehydrogenase subunit 5 (ND5) gene, partial cds; mitochondrial\n",
      "GATAATTAATAATTCCGTAAGTTGAAATATAAGGTATAAATCATATTGATCCTAAAAAATAAGAAATATT\n",
      "ATATAAGTCTAAAGATTTATTATAAAAGTATAAATTAACCAATGAAATGAAATAACCAAATAAACCCCCA\n",
      "GTAATACAAACAAATAAAGTCAACTGTTTTAAATAAATAGGTAAACAAATCATATAAGGAGTAGGAAAAA\n",
      "TTAATCAATTTAAAATTCTACCTCCAATAATTGATATAATAAGTAAACCTATTATACCCTTTAATATTAC\n",
      "TCATCCTTCATCTCTTAAAACATTTAATCTTCTACAATTTAAATCTCCA\n",
      "\n",
      "\n"
     ]
    }
   ],
   "source": [
    "#creating EFetch handle\n",
    "efetch_handle = Entrez.efetch(db=\"nuccore\", id=\"1443018443\", rettype=\"fasta\", retmode=\"text\")\n",
    "gbrecord = efetch_handle.read()\n",
    "print(gbrecord)"
   ]
  },
  {
   "cell_type": "code",
   "execution_count": 26,
   "id": "817a816e-c985-48e4-a8fb-b017fb11a46d",
   "metadata": {},
   "outputs": [
    {
     "name": "stdout",
     "output_type": "stream",
     "text": [
      "FASTA downloaded\n"
     ]
    }
   ],
   "source": [
    "import os\n",
    "\n",
    "#creating EFetch handle\n",
    "filename = \"Megaselia scalaris ND5 gene.fasta\"\n",
    "\n",
    "#creating EFetch handle\n",
    "if not os.path.isfile(\"Megaselia scalaris ND5 gen.fasta\"):\n",
    "    # Downloading file...\n",
    "    efetch_handle = Entrez.efetch(db=\"nuccore\", id=\"1443018443\", rettype=\"fasta\", retmode=\"text\")\n",
    "    output_file_handle = open(\"Megaselia scalaris ND5 gen.fasta\", \"w\")\n",
    "    output_file_handle.write(efetch_handle.read())\n",
    "    output_file_handle.close()\n",
    "    efetch_handle.close()\n",
    "    print(\"FASTA downloaded\")"
   ]
  },
  {
   "cell_type": "code",
   "execution_count": 27,
   "id": "1c4f4ae8-be2c-4209-bcdc-5013744fa684",
   "metadata": {},
   "outputs": [
    {
     "name": "stdout",
     "output_type": "stream",
     "text": [
      "GB downloaded\n"
     ]
    }
   ],
   "source": [
    "import os\n",
    "\n",
    "#creating EFetch handle\n",
    "filename = \"Megaselia scalaris ND5 gene.gbk\"\n",
    "\n",
    "#creating EFetch handle\n",
    "if not os.path.isfile(\"Megaselia scalaris ND5 gen.gbk\"):\n",
    "    # Downloading file...\n",
    "    efetch_handle = Entrez.efetch(db=\"nuccore\", id=\"1443018443\", rettype=\"gb\", retmode=\"text\")\n",
    "    output_file_handle = open(\"Megaselia scalaris ND5 gen.gbk\", \"w\")\n",
    "    output_file_handle.write(efetch_handle.read())\n",
    "    output_file_handle.close()\n",
    "    efetch_handle.close()\n",
    "    print(\"GB downloaded\")"
   ]
  },
  {
   "cell_type": "code",
   "execution_count": 28,
   "id": "9de57951-ff15-4279-a28f-06cf1c6be588",
   "metadata": {},
   "outputs": [
    {
     "name": "stdout",
     "output_type": "stream",
     "text": [
      "FASTA downloaded\n"
     ]
    }
   ],
   "source": [
    "#creating EFetch handle\n",
    "filename = \"Megaselia scalaris complete mitochondrion2.fas\" #up to you, but Genbank files always use *.gb or *.gbk \n",
    "\n",
    "#creating EFetch handle\n",
    "if not os.path.isfile(\"Megaselia scalaris complete mitochondrion2.fas\"):\n",
    "    # Downloading file...\n",
    "    efetch_handle = Entrez.efetch(db=\"nuccore\", id=\"594448959\", rettype=\"fasta\", retmode=\"text\")\n",
    "    output_file_handle = open(\"Megaselia scalaris complete mitochondrion2.fas\", \"w\")\n",
    "    output_file_handle.write(efetch_handle.read())\n",
    "    output_file_handle.close()\n",
    "    efetch_handle.close()\n",
    "    print(\"FASTA downloaded\")"
   ]
  },
  {
   "cell_type": "code",
   "execution_count": 29,
   "id": "f520d284-b943-41cc-a240-91039448b1ac",
   "metadata": {},
   "outputs": [
    {
     "name": "stdout",
     "output_type": "stream",
     "text": [
      "GB downloaded\n"
     ]
    }
   ],
   "source": [
    "#creating EFetch handle\n",
    "filename = \"Megaselia scalaris complete mitochondrion2.gbk\" #up to you, but Genbank files always use *.gb or *.gbk \n",
    "\n",
    "#creating EFetch handle\n",
    "if not os.path.isfile(\"Megaselia scalaris complete mitochondrion2.gbk\"):\n",
    "    # Downloading file...\n",
    "    efetch_handle = Entrez.efetch(db=\"nuccore\", id=\"594448959\", rettype=\"gb\", retmode=\"text\")\n",
    "    output_file_handle = open(\"Megaselia scalaris complete mitochondrion2.gbk\", \"w\")\n",
    "    output_file_handle.write(efetch_handle.read())\n",
    "    output_file_handle.close()\n",
    "    efetch_handle.close()\n",
    "    print(\"GB downloaded\")"
   ]
  },
  {
   "cell_type": "code",
   "execution_count": 30,
   "id": "9bf39c0a-02b3-4c62-b7c2-2ca2d2530869",
   "metadata": {},
   "outputs": [
    {
     "name": "stdout",
     "output_type": "stream",
     "text": [
      ">ND5|Megaselia scalaris mitochondrion, complete genome\n",
      "GTGAAATATATTTCTATTTGTTTAATTAGATTTTTTTGTTTAATTAGTTGTAGTTTAACTTGTTTTGTGAGAGGGGTAAATTTTTTATCCCAAGATTATAGATTATTTATTGAATGAGAAGTTGTTAGTTTAAATTCCTCATCAATTGTTATAACAATTTTATTAGATTGAATAAGTTTAATTTTTATATCATTTGTTTTATTAATTTCTTCTTTAGTAATTTTTTATAGAAAGGAATATATGAGTGAAGATGAAAATATTAATCGATTTATCTTATTAGTTTTAATATTTGTTAGTTCTATAATATTATTGATTATCAGACCTAATTTAATTAGTATTTTATTAGGGTGAGATGGGCTAGGTTTAGTATCTTATTGTTTAGTAATTTATTTTCAAAATGTAAAGTCATATAGTGCTGGCATATTAACTGCCTTATCTAATCGAATTGGAGATGTGGCTTTATTATTAGCTATTGCTTGAATATTGAATTTCGGGAGTTGAAATTATATTTTTTATTTAGAATTTATAAAAATAACTAGAGAAATACAAATTGTAGGGATTTTAGTTGTTTTAGCTGCTATAACAAAAAGAGCTCAAATTCCTTTTTCTTCTTGACTTCCAGCAGCTATGGCTGCTCCTACCCCTGTTTCTGCTCTTGTTCATTCATCGACTTTAGTAACAGCGGGTGTTTATTTATTAATTCGATTTAATTTTTTGTTAGTAGATTCAATAATTGGAAAAATTTTATTGTTAATTTCAGGATTAACAATGTTTATAGCCGGTCTTGGTGCTAACTTTGAATTTGATTTAAAGAAAATTATTGCTTTGTCTACGCTTTCTCAGTTAGGATTAATAATAAGAATTTTATCTATAGGGTACTATAAATTAGCATTTTTTCATCTTTTAACTCATGCTTTATTTAAGGCCTTATTATTTATATGCGCGGGGAGTATTATTCATAATATAAATAATTTTCAAGATATTCGTGTTATAGGTGGATTAGGAATTTATATACCTATTACTACTGCTTGTTTTAATATTTCTAATTTAGCATTATGTGGAACACCTTTTTTAGCTGGATTTTATTCAAAGGATATAATTTTAGAAATTGTGTCTATAAGTAATGTAAATATGTTAATTTTCTTTTTATTCTTTTTTTCTACTGGATTAACTGTTTGTTATTCTTTTCGACTTGTATATTATTCAGTTACTGGAGATTTAAATTGTAGAAGATTAAATGTTTTAAGAGATGAAGGATGAGTAATATTGAAGGGTATAATAGGTTTACTTATTATATCAATTATTGGGGGAAGAATTTTAAATTGATTAATTTTTCCTACTCCTTATATGATTTGTCTACCTATTTATCTAAAGCAGTTAACTTTATTTGTTTGTATTATTGGAGGTTTATTTGGCTATTTCATTTCATTAGTTAATTTATATTTTTATAATAAATCTTTAGACCTATATAATATTTCTTATTTTTTAGGGTCTATATGATTTATGCCTTATATTTCAACTTATGGAATTATTAATTATCCTTTAAATTTTGGTAAAATAATTTATAAGTCAATAGACCAGGGTTGATCAGAGTATTTAGGAGGCCAAATAATATTTAAAATATTTATTAATATATCTCAATATAATCAATTTGTTCAAAATAATAATTTTAAGATTTATATGAGAGTATTTGTTTTATGAATATTTATTATTATTATAATAATTATAATTT\n"
     ]
    }
   ],
   "source": [
    "from Bio import SeqIO\n",
    "GoI = \"ND5\"\n",
    "\n",
    "for genome in SeqIO.parse(\"Megaselia scalaris complete mitochondrion2.gbk\",\"genbank\"):\n",
    "    for gene in genome.features:\n",
    "        if gene.type != \"CDS\":\n",
    "            continue\n",
    "        if \"gene\" not in gene.qualifiers:\n",
    "            continue\n",
    "        if GoI not in gene.qualifiers[\"gene\"][0]: \n",
    "            continue\n",
    "        gene_seq = gene.extract(genome.seq)\n",
    "\n",
    "GoI_fasta = \">%s|%s\\n%s\" % (GoI, genome.description, gene_seq)\n",
    "print(GoI_fasta)"
   ]
  },
  {
   "cell_type": "code",
   "execution_count": 31,
   "id": "56b42bf4-7cee-454c-aff4-6111e007ba60",
   "metadata": {},
   "outputs": [
    {
     "name": "stdout",
     "output_type": "stream",
     "text": [
      "FASTA downloaded\n"
     ]
    }
   ],
   "source": [
    "import os\n",
    "from Bio import Entrez, SeqIO\n",
    "\n",
    "GoI = \"ND5\"\n",
    "\n",
    "for genome in SeqIO.parse(\"Megaselia scalaris complete mitochondrion2.gbk\",\"genbank\"):\n",
    "    for gene in genome.features:\n",
    "        if gene.type != \"CDS\":\n",
    "            continue\n",
    "        if \"gene\" not in gene.qualifiers:\n",
    "            continue\n",
    "        if GoI not in gene.qualifiers[\"gene\"][0]: \n",
    "            continue\n",
    "        gene_seq = gene.extract(genome.seq)\n",
    "        \n",
    "GoI_fasta = \">%s|%s\\n%s\" % (GoI, genome.description, gene_seq)\n",
    "with open(\"GoI_fasta.fasta\",\"w\") as f:\n",
    "    f.write(GoI_fasta)\n",
    "print(\"FASTA downloaded\")"
   ]
  }
 ],
 "metadata": {
  "kernelspec": {
   "display_name": "Python 3 (ipykernel)",
   "language": "python",
   "name": "python3"
  },
  "language_info": {
   "codemirror_mode": {
    "name": "ipython",
    "version": 3
   },
   "file_extension": ".py",
   "mimetype": "text/x-python",
   "name": "python",
   "nbconvert_exporter": "python",
   "pygments_lexer": "ipython3",
   "version": "3.9.7"
  }
 },
 "nbformat": 4,
 "nbformat_minor": 5
}
